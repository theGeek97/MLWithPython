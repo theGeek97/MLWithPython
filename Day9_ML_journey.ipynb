{
  "nbformat": 4,
  "nbformat_minor": 0,
  "metadata": {
    "colab": {
      "provenance": [],
      "authorship_tag": "ABX9TyMjc3oKMZ3OZ94QI3MRkH9D",
      "include_colab_link": true
    },
    "kernelspec": {
      "name": "python3",
      "display_name": "Python 3"
    },
    "language_info": {
      "name": "python"
    }
  },
  "cells": [
    {
      "cell_type": "markdown",
      "metadata": {
        "id": "view-in-github",
        "colab_type": "text"
      },
      "source": [
        "<a href=\"https://colab.research.google.com/github/theGeek97/MLWithPython/blob/main/Day9_ML_journey.ipynb\" target=\"_parent\"><img src=\"https://colab.research.google.com/assets/colab-badge.svg\" alt=\"Open In Colab\"/></a>"
      ]
    },
    {
      "cell_type": "code",
      "execution_count": 1,
      "metadata": {
        "colab": {
          "base_uri": "https://localhost:8080/"
        },
        "id": "4pOvDYesx0XU",
        "outputId": "32485291-b52b-4e03-c39d-2e55d814ab6c"
      },
      "outputs": [
        {
          "output_type": "stream",
          "name": "stdout",
          "text": [
            "133938825496512\n",
            "133938825496512\n"
          ]
        }
      ],
      "source": [
        "l1 = [10,20,30]\n",
        "l2 = l1\n",
        "print(id(l1))\n",
        "print(id(l2))"
      ]
    },
    {
      "cell_type": "code",
      "source": [
        "l2[1]=200\n",
        "print(l1)\n",
        "print(l2)"
      ],
      "metadata": {
        "colab": {
          "base_uri": "https://localhost:8080/"
        },
        "id": "8UxSAdliyIWT",
        "outputId": "3b84d9e6-0259-484c-fd39-2e0a9d271576"
      },
      "execution_count": 3,
      "outputs": [
        {
          "output_type": "stream",
          "name": "stdout",
          "text": [
            "[10, 200, 30]\n",
            "[10, 200, 30]\n"
          ]
        }
      ]
    },
    {
      "cell_type": "code",
      "source": [
        "#shallow copy\n",
        "import copy\n",
        "l1 = [[1,2,3],[4,5,6],[7,8,9]]\n",
        "l1.append(34)\n",
        "print(\"ID of L1: \", id(l1))\n",
        "print(\"ID of 1st ele of L1: \", id(l1[0]))\n",
        "print(\"ID of 2nd ele of L1: \", id(l1[1]))\n",
        "\n",
        "l2 = copy.copy(l1)\n",
        "l1[3]= 43\n",
        "print(\"ID of L2: \", id(l2))\n",
        "print(\"ID of 1st ele of L2: \", id(l2[0]))\n",
        "print(\"ID of 2nd ele of L2: \", id(l2[1]))\n",
        "\n",
        "l1[2][2] = \"hello\"\n",
        "print(l1)\n",
        "print(l2)"
      ],
      "metadata": {
        "colab": {
          "base_uri": "https://localhost:8080/"
        },
        "id": "CNzsT10hz11J",
        "outputId": "43ae53b1-d3a1-46db-92e7-6433482f48bb"
      },
      "execution_count": 8,
      "outputs": [
        {
          "output_type": "stream",
          "name": "stdout",
          "text": [
            "ID of L1:  133937713536320\n",
            "ID of 1st ele of L1:  133937713515008\n",
            "ID of 2nd ele of L1:  133937713520256\n",
            "ID of L2:  133937713417344\n",
            "ID of 1st ele of L2:  133937713515008\n",
            "ID of 2nd ele of L2:  133937713520256\n",
            "[[1, 2, 3], [4, 5, 6], [7, 8, 'hello'], 43]\n",
            "[[1, 2, 3], [4, 5, 6], [7, 8, 'hello'], 34]\n"
          ]
        }
      ]
    },
    {
      "cell_type": "code",
      "source": [
        "#set\n",
        "#unordered, removes duplicated\n",
        "\n",
        "s = {10,\"hello\",40,4j}\n",
        "print(s)\n",
        "#s1 = {[1,2,3]} cannot enter mutable objects in set, on;y immutable\n",
        "#print(s1)\n",
        "\n",
        "print(set(\"NTT DATA\"))\n",
        "print(set([\"1\",\"2\"]))"
      ],
      "metadata": {
        "colab": {
          "base_uri": "https://localhost:8080/",
          "height": 228
        },
        "id": "OtuD3M_C6ZBW",
        "outputId": "ded77dff-f07d-4a5f-c0d3-ef01b20dee89"
      },
      "execution_count": 16,
      "outputs": [
        {
          "output_type": "stream",
          "name": "stdout",
          "text": [
            "{40, 10, 4j, 'hello'}\n"
          ]
        },
        {
          "output_type": "error",
          "ename": "TypeError",
          "evalue": "unhashable type: 'list'",
          "traceback": [
            "\u001b[0;31m---------------------------------------------------------------------------\u001b[0m",
            "\u001b[0;31mTypeError\u001b[0m                                 Traceback (most recent call last)",
            "\u001b[0;32m<ipython-input-16-3d3ff451f33c>\u001b[0m in \u001b[0;36m<cell line: 0>\u001b[0;34m()\u001b[0m\n\u001b[1;32m      4\u001b[0m \u001b[0ms\u001b[0m \u001b[0;34m=\u001b[0m \u001b[0;34m{\u001b[0m\u001b[0;36m10\u001b[0m\u001b[0;34m,\u001b[0m\u001b[0;34m\"hello\"\u001b[0m\u001b[0;34m,\u001b[0m\u001b[0;36m40\u001b[0m\u001b[0;34m,\u001b[0m\u001b[0;36m4j\u001b[0m\u001b[0;34m}\u001b[0m\u001b[0;34m\u001b[0m\u001b[0;34m\u001b[0m\u001b[0m\n\u001b[1;32m      5\u001b[0m \u001b[0mprint\u001b[0m\u001b[0;34m(\u001b[0m\u001b[0ms\u001b[0m\u001b[0;34m)\u001b[0m\u001b[0;34m\u001b[0m\u001b[0;34m\u001b[0m\u001b[0m\n\u001b[0;32m----> 6\u001b[0;31m \u001b[0ms1\u001b[0m \u001b[0;34m=\u001b[0m \u001b[0;34m{\u001b[0m\u001b[0;34m[\u001b[0m\u001b[0;36m1\u001b[0m\u001b[0;34m,\u001b[0m\u001b[0;36m2\u001b[0m\u001b[0;34m,\u001b[0m\u001b[0;36m3\u001b[0m\u001b[0;34m]\u001b[0m\u001b[0;34m}\u001b[0m\u001b[0;34m\u001b[0m\u001b[0;34m\u001b[0m\u001b[0m\n\u001b[0m\u001b[1;32m      7\u001b[0m \u001b[0mprint\u001b[0m\u001b[0;34m(\u001b[0m\u001b[0ms1\u001b[0m\u001b[0;34m)\u001b[0m\u001b[0;34m\u001b[0m\u001b[0;34m\u001b[0m\u001b[0m\n\u001b[1;32m      8\u001b[0m \u001b[0mprint\u001b[0m\u001b[0;34m(\u001b[0m\u001b[0mset\u001b[0m\u001b[0;34m(\u001b[0m\u001b[0;34m\"NTT DATA\"\u001b[0m\u001b[0;34m)\u001b[0m\u001b[0;34m)\u001b[0m\u001b[0;34m\u001b[0m\u001b[0;34m\u001b[0m\u001b[0m\n",
            "\u001b[0;31mTypeError\u001b[0m: unhashable type: 'list'"
          ]
        }
      ]
    }
  ]
}