{
  "nbformat": 4,
  "nbformat_minor": 0,
  "metadata": {
    "colab": {
      "provenance": [],
      "authorship_tag": "ABX9TyOkBTxLL8eGHoIdAa9FJTub",
      "include_colab_link": true
    },
    "kernelspec": {
      "name": "python3",
      "display_name": "Python 3"
    },
    "language_info": {
      "name": "python"
    }
  },
  "cells": [
    {
      "cell_type": "markdown",
      "metadata": {
        "id": "view-in-github",
        "colab_type": "text"
      },
      "source": [
        "<a href=\"https://colab.research.google.com/github/theGeek97/MLWithPython/blob/main/Day8_ML_Journey.ipynb\" target=\"_parent\"><img src=\"https://colab.research.google.com/assets/colab-badge.svg\" alt=\"Open In Colab\"/></a>"
      ]
    },
    {
      "cell_type": "code",
      "execution_count": 13,
      "metadata": {
        "colab": {
          "base_uri": "https://localhost:8080/"
        },
        "id": "8sKTsE-YTCnd",
        "outputId": "858d4a50-03ed-4965-c5eb-de0eda1c662b"
      },
      "outputs": [
        {
          "output_type": "stream",
          "name": "stdout",
          "text": [
            "{'duel': 'Raze', 'control': 'Omen', 'support': 'Sage'}\n",
            "Raze\n",
            "Omen\n",
            "{'duel': ['Raze', 'Omen'], 'control': ('Omen1', 'Viper'), 'support': 'Sage'}\n",
            "Hello\n"
          ]
        }
      ],
      "source": [
        "d1 = {\"duel\": \"Raze\", \"control\": \"Omen\" , \"support\": \"Sage\"}\n",
        "print(d1)\n",
        "print(d1[\"duel\"])\n",
        "d2 = {2: \"Raze\", 4 : \"Omen\" , 6: \"Sage\"}\n",
        "print(d2[4])\n",
        "d3 = {\"duel\" : [\"Raze\", \"Omen\"], \"control\": (\"Omen1\",\"Viper\" ) , \"support\": \"Sage\"}\n",
        "print(d3)\n",
        "d4 = {\n",
        "      (1,2): \"Hello\",\n",
        "      (3,4): \"World\"\n",
        "}\n",
        "print(d4[1,2])\n"
      ]
    },
    {
      "cell_type": "code",
      "source": [
        "type(d4)"
      ],
      "metadata": {
        "colab": {
          "base_uri": "https://localhost:8080/"
        },
        "id": "8DPQdV5CbMWi",
        "outputId": "ee8ce6c7-28d8-48cd-cac8-8fe3659c4fbc"
      },
      "execution_count": 9,
      "outputs": [
        {
          "output_type": "execute_result",
          "data": {
            "text/plain": [
              "dict"
            ]
          },
          "metadata": {},
          "execution_count": 9
        }
      ]
    },
    {
      "cell_type": "code",
      "source": [
        "d5 = {  'aa': 100,\n",
        "        'bb': 200,\n",
        "        'cc':300\n",
        "}\n",
        "print(d5)"
      ],
      "metadata": {
        "colab": {
          "base_uri": "https://localhost:8080/"
        },
        "id": "X3jnpwwMbonK",
        "outputId": "8772ff8d-b0eb-4566-c09a-86265f5196f6"
      },
      "execution_count": 14,
      "outputs": [
        {
          "output_type": "stream",
          "name": "stdout",
          "text": [
            "{'aa': 100, 'bb': 200, 'cc': 300}\n"
          ]
        }
      ]
    },
    {
      "cell_type": "code",
      "source": [
        "#Iterating over a dict\n",
        "#iterates through keys\n",
        "\n",
        "for key in d3:\n",
        "  print(d3[key])\n"
      ],
      "metadata": {
        "colab": {
          "base_uri": "https://localhost:8080/"
        },
        "id": "DT4tddhweqpp",
        "outputId": "09ffb9be-40d7-497c-e2d9-08fe5ad40088"
      },
      "execution_count": 15,
      "outputs": [
        {
          "output_type": "stream",
          "name": "stdout",
          "text": [
            "['Raze', 'Omen']\n",
            "('Omen1', 'Viper')\n",
            "Sage\n"
          ]
        }
      ]
    },
    {
      "cell_type": "code",
      "source": [
        "#iterate over values\n",
        "\n",
        "for value in d3.values():\n",
        "  print(value)"
      ],
      "metadata": {
        "colab": {
          "base_uri": "https://localhost:8080/"
        },
        "id": "I5wb-29Oe4F6",
        "outputId": "3054551c-2070-442d-ff2a-da2f50d2fde1"
      },
      "execution_count": 16,
      "outputs": [
        {
          "output_type": "stream",
          "name": "stdout",
          "text": [
            "['Raze', 'Omen']\n",
            "('Omen1', 'Viper')\n",
            "Sage\n"
          ]
        }
      ]
    },
    {
      "cell_type": "code",
      "source": [
        "#iterate through items ..item means key value pair combination\n",
        "\n",
        "for item in d3.items():\n",
        "  print(item)"
      ],
      "metadata": {
        "colab": {
          "base_uri": "https://localhost:8080/"
        },
        "id": "zWrjQQi4fU2U",
        "outputId": "f2e3299b-80f0-488e-de07-06ac847d19bb"
      },
      "execution_count": 17,
      "outputs": [
        {
          "output_type": "stream",
          "name": "stdout",
          "text": [
            "('duel', ['Raze', 'Omen'])\n",
            "('control', ('Omen1', 'Viper'))\n",
            "('support', 'Sage')\n"
          ]
        }
      ]
    },
    {
      "cell_type": "code",
      "source": [
        "#membership\n",
        "if \"duel\" in d3:\n",
        "  print(\" duelist is present\")"
      ],
      "metadata": {
        "colab": {
          "base_uri": "https://localhost:8080/"
        },
        "id": "pQZyQ1JpiDKJ",
        "outputId": "904ba380-f40b-4c02-b004-29b2931d8d30"
      },
      "execution_count": 19,
      "outputs": [
        {
          "output_type": "stream",
          "name": "stdout",
          "text": [
            " duelist is present\n"
          ]
        }
      ]
    },
    {
      "cell_type": "code",
      "source": [
        "#inbuilt methods\n",
        "\n",
        "#keys\n",
        "print(d3.keys())\n",
        "#only values\n",
        "print(d3.values())\n",
        "\n",
        "#as items\n",
        "print(d3.items())\n"
      ],
      "metadata": {
        "colab": {
          "base_uri": "https://localhost:8080/"
        },
        "id": "IFa30PtRiWQG",
        "outputId": "efb211fa-8a91-4c93-dbb5-3c2d8bbe9984"
      },
      "execution_count": 20,
      "outputs": [
        {
          "output_type": "stream",
          "name": "stdout",
          "text": [
            "dict_keys(['duel', 'control', 'support'])\n",
            "dict_values([['Raze', 'Omen'], ('Omen1', 'Viper'), 'Sage'])\n",
            "dict_items([('duel', ['Raze', 'Omen']), ('control', ('Omen1', 'Viper')), ('support', 'Sage')])\n"
          ]
        }
      ]
    },
    {
      "cell_type": "code",
      "source": [
        "d2 = {2: \"Raze\", 4 : \"Omen\" , 6: \"Sage\"}\n",
        "print(d2.get(2))\n",
        "print(d2.get(10))\n",
        "print(d2.get(10,-110)) # -110 is default value"
      ],
      "metadata": {
        "colab": {
          "base_uri": "https://localhost:8080/"
        },
        "id": "arH61nN9jb54",
        "outputId": "e26e68e0-cd7a-40f7-baa0-8048e3e2e290"
      },
      "execution_count": 23,
      "outputs": [
        {
          "output_type": "stream",
          "name": "stdout",
          "text": [
            "Raze\n",
            "None\n",
            "-110\n"
          ]
        }
      ]
    },
    {
      "cell_type": "code",
      "source": [
        "d2 = {2: \"Raze\", 4 : \"Omen\" , 6: \"Sage\"}\n",
        "val = d2.pop(2)\n",
        "print(val)\n",
        "print(d2)"
      ],
      "metadata": {
        "colab": {
          "base_uri": "https://localhost:8080/"
        },
        "id": "n2wbCyL8kSYs",
        "outputId": "73ea3532-df2e-4b6a-c09d-5f03568092e1"
      },
      "execution_count": 27,
      "outputs": [
        {
          "output_type": "stream",
          "name": "stdout",
          "text": [
            "Raze\n",
            "{4: 'Omen', 6: 'Sage'}\n"
          ]
        }
      ]
    },
    {
      "cell_type": "code",
      "source": [
        "#update\n",
        "\n",
        "d1 = {1:100,2:200,3:300}\n",
        "d2= {4:400,5:500}\n",
        "d1.update(d2)\n",
        "print(d1)\n",
        "d1.update({4:800})\n",
        "print(d1)\n",
        "print"
      ],
      "metadata": {
        "colab": {
          "base_uri": "https://localhost:8080/"
        },
        "id": "okr50pj8lkfg",
        "outputId": "b25bc1a5-d8d8-4b18-adfe-58e56e288d04"
      },
      "execution_count": 29,
      "outputs": [
        {
          "output_type": "stream",
          "name": "stdout",
          "text": [
            "{1: 100, 2: 200, 3: 300, 4: 400, 5: 500}\n",
            "{1: 100, 2: 200, 3: 300, 4: 800, 5: 500}\n"
          ]
        }
      ]
    },
    {
      "cell_type": "code",
      "source": [
        "#clear()\n",
        "d1 = {1:100,2:200,3:300}\n",
        "d1.clear()\n",
        "print(d1)\n"
      ],
      "metadata": {
        "colab": {
          "base_uri": "https://localhost:8080/"
        },
        "id": "j9gDsIVdnBwF",
        "outputId": "c71c9266-4508-41f8-e864-b8cfc466fdb5"
      },
      "execution_count": 30,
      "outputs": [
        {
          "output_type": "stream",
          "name": "stdout",
          "text": [
            "{}\n"
          ]
        }
      ]
    },
    {
      "cell_type": "code",
      "source": [
        "#copy\n",
        "\n",
        "s1 = {1:100,2:200,3:300}\n",
        "s2 = s1\n",
        "print(s1)\n",
        "print(s2)\n",
        "print(id(s1))\n",
        "print(id(s2))\n",
        "\n",
        "s2 = s1.copy()\n",
        "print(s1)\n",
        "print(s2)\n",
        "print(id(s1))\n",
        "print(id(s2))"
      ],
      "metadata": {
        "colab": {
          "base_uri": "https://localhost:8080/"
        },
        "id": "W-nlzupdn5_E",
        "outputId": "8be483ac-88de-4074-b816-f960c5b0d5e3"
      },
      "execution_count": 35,
      "outputs": [
        {
          "output_type": "stream",
          "name": "stdout",
          "text": [
            "{1: 100, 2: 200, 3: 300}\n",
            "{1: 100, 2: 200, 3: 300}\n",
            "139749560817600\n",
            "139749560817600\n",
            "{1: 100, 2: 200, 3: 300}\n",
            "{1: 100, 2: 200, 3: 300}\n",
            "139749560817600\n",
            "139749560854528\n"
          ]
        }
      ]
    },
    {
      "cell_type": "code",
      "source": [
        "\n",
        "print(s2)\n",
        "print(s1)"
      ],
      "metadata": {
        "colab": {
          "base_uri": "https://localhost:8080/"
        },
        "id": "ie3SlfWOpI0x",
        "outputId": "d9725c0e-5a52-49f6-dae1-bee5e1c7bb93"
      },
      "execution_count": 40,
      "outputs": [
        {
          "output_type": "stream",
          "name": "stdout",
          "text": [
            "{1: 1000, 2: 200, 3: 300, '1': 1000}\n",
            "{1: 100, 2: 200, 3: 300}\n"
          ]
        }
      ]
    },
    {
      "cell_type": "code",
      "source": [
        "#from Keys\n",
        "keys = [1,2,3,4,5]\n",
        "d1= dict.fromkeys(keys,1000)\n",
        "print(d1)"
      ],
      "metadata": {
        "colab": {
          "base_uri": "https://localhost:8080/"
        },
        "id": "MVadL948qGJJ",
        "outputId": "25360285-73ef-4bac-a418-f356f707dff3"
      },
      "execution_count": 41,
      "outputs": [
        {
          "output_type": "stream",
          "name": "stdout",
          "text": [
            "{1: 1000, 2: 1000, 3: 1000, 4: 1000, 5: 1000}\n"
          ]
        }
      ]
    },
    {
      "cell_type": "code",
      "source": [
        "k=[1,2,3,4,5]\n",
        "v=[10,20,30,40,50]\n",
        "\n",
        "#zip method\n",
        "d1= dict(zip(k,v))\n",
        "print(d1)"
      ],
      "metadata": {
        "colab": {
          "base_uri": "https://localhost:8080/"
        },
        "id": "N6eX-TOhqTn9",
        "outputId": "6a85c725-668c-4842-b939-a527ad15e401"
      },
      "execution_count": 42,
      "outputs": [
        {
          "output_type": "stream",
          "name": "stdout",
          "text": [
            "{1: 10, 2: 20, 3: 30, 4: 40, 5: 50}\n"
          ]
        }
      ]
    }
  ]
}