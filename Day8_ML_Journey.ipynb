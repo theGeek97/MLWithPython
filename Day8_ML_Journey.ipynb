{
  "nbformat": 4,
  "nbformat_minor": 0,
  "metadata": {
    "colab": {
      "provenance": [],
      "authorship_tag": "ABX9TyOxfRqc32BbnDSiEsZwezXa",
      "include_colab_link": true
    },
    "kernelspec": {
      "name": "python3",
      "display_name": "Python 3"
    },
    "language_info": {
      "name": "python"
    }
  },
  "cells": [
    {
      "cell_type": "markdown",
      "metadata": {
        "id": "view-in-github",
        "colab_type": "text"
      },
      "source": [
        "<a href=\"https://colab.research.google.com/github/theGeek97/MLWithPython/blob/main/Day8_ML_Journey.ipynb\" target=\"_parent\"><img src=\"https://colab.research.google.com/assets/colab-badge.svg\" alt=\"Open In Colab\"/></a>"
      ]
    },
    {
      "cell_type": "code",
      "execution_count": 13,
      "metadata": {
        "colab": {
          "base_uri": "https://localhost:8080/"
        },
        "id": "8sKTsE-YTCnd",
        "outputId": "858d4a50-03ed-4965-c5eb-de0eda1c662b"
      },
      "outputs": [
        {
          "output_type": "stream",
          "name": "stdout",
          "text": [
            "{'duel': 'Raze', 'control': 'Omen', 'support': 'Sage'}\n",
            "Raze\n",
            "Omen\n",
            "{'duel': ['Raze', 'Omen'], 'control': ('Omen1', 'Viper'), 'support': 'Sage'}\n",
            "Hello\n"
          ]
        }
      ],
      "source": [
        "d1 = {\"duel\": \"Raze\", \"control\": \"Omen\" , \"support\": \"Sage\"}\n",
        "print(d1)\n",
        "print(d1[\"duel\"])\n",
        "d2 = {2: \"Raze\", 4 : \"Omen\" , 6: \"Sage\"}\n",
        "print(d2[4])\n",
        "d3 = {\"duel\" : [\"Raze\", \"Omen\"], \"control\": (\"Omen1\",\"Viper\" ) , \"support\": \"Sage\"}\n",
        "print(d3)\n",
        "d4 = {\n",
        "      (1,2): \"Hello\",\n",
        "      (3,4): \"World\"\n",
        "}\n",
        "print(d4[1,2])\n"
      ]
    },
    {
      "cell_type": "code",
      "source": [
        "type(d4)"
      ],
      "metadata": {
        "colab": {
          "base_uri": "https://localhost:8080/"
        },
        "id": "8DPQdV5CbMWi",
        "outputId": "ee8ce6c7-28d8-48cd-cac8-8fe3659c4fbc"
      },
      "execution_count": 9,
      "outputs": [
        {
          "output_type": "execute_result",
          "data": {
            "text/plain": [
              "dict"
            ]
          },
          "metadata": {},
          "execution_count": 9
        }
      ]
    },
    {
      "cell_type": "code",
      "source": [
        "d5 = {  'aa': 100,\n",
        "        'bb': 200,\n",
        "        'cc':300\n",
        "}\n",
        "print(d5)"
      ],
      "metadata": {
        "colab": {
          "base_uri": "https://localhost:8080/"
        },
        "id": "X3jnpwwMbonK",
        "outputId": "8772ff8d-b0eb-4566-c09a-86265f5196f6"
      },
      "execution_count": 14,
      "outputs": [
        {
          "output_type": "stream",
          "name": "stdout",
          "text": [
            "{'aa': 100, 'bb': 200, 'cc': 300}\n"
          ]
        }
      ]
    },
    {
      "cell_type": "code",
      "source": [
        "#Iterating over a dict\n",
        "#iterates through keys\n",
        "\n",
        "for key in d3:\n",
        "  print(d3[key])\n"
      ],
      "metadata": {
        "colab": {
          "base_uri": "https://localhost:8080/"
        },
        "id": "DT4tddhweqpp",
        "outputId": "09ffb9be-40d7-497c-e2d9-08fe5ad40088"
      },
      "execution_count": 15,
      "outputs": [
        {
          "output_type": "stream",
          "name": "stdout",
          "text": [
            "['Raze', 'Omen']\n",
            "('Omen1', 'Viper')\n",
            "Sage\n"
          ]
        }
      ]
    },
    {
      "cell_type": "code",
      "source": [
        "#iterate over values\n",
        "\n",
        "for value in d3.values():\n",
        "  print(value)"
      ],
      "metadata": {
        "colab": {
          "base_uri": "https://localhost:8080/"
        },
        "id": "I5wb-29Oe4F6",
        "outputId": "3054551c-2070-442d-ff2a-da2f50d2fde1"
      },
      "execution_count": 16,
      "outputs": [
        {
          "output_type": "stream",
          "name": "stdout",
          "text": [
            "['Raze', 'Omen']\n",
            "('Omen1', 'Viper')\n",
            "Sage\n"
          ]
        }
      ]
    },
    {
      "cell_type": "code",
      "source": [
        "#iterate through items ..item means key value pair combination\n",
        "\n",
        "for item in d3.items():\n",
        "  print(item)"
      ],
      "metadata": {
        "colab": {
          "base_uri": "https://localhost:8080/"
        },
        "id": "zWrjQQi4fU2U",
        "outputId": "f2e3299b-80f0-488e-de07-06ac847d19bb"
      },
      "execution_count": 17,
      "outputs": [
        {
          "output_type": "stream",
          "name": "stdout",
          "text": [
            "('duel', ['Raze', 'Omen'])\n",
            "('control', ('Omen1', 'Viper'))\n",
            "('support', 'Sage')\n"
          ]
        }
      ]
    }
  ]
}