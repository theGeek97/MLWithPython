{
  "nbformat": 4,
  "nbformat_minor": 0,
  "metadata": {
    "colab": {
      "provenance": []
    },
    "kernelspec": {
      "name": "python3",
      "display_name": "Python 3"
    },
    "language_info": {
      "name": "python"
    }
  },
  "cells": [
    {
      "cell_type": "code",
      "execution_count": null,
      "metadata": {
        "colab": {
          "base_uri": "https://localhost:8080/"
        },
        "id": "HpmbKqI7jltH",
        "outputId": "0ec1bf68-5f68-4ec7-f746-ea081ec8cab5"
      },
      "outputs": [
        {
          "output_type": "stream",
          "name": "stdout",
          "text": [
            "hello world\n"
          ]
        }
      ],
      "source": [
        "print(\"hello world\")"
      ]
    },
    {
      "cell_type": "code",
      "source": [
        "print(\"hello world\")"
      ],
      "metadata": {
        "id": "34ZbDQBAxLWX",
        "outputId": "679cc0eb-8d64-4fee-8f81-71839289f6c2",
        "colab": {
          "base_uri": "https://localhost:8080/"
        }
      },
      "execution_count": 1,
      "outputs": [
        {
          "output_type": "stream",
          "name": "stdout",
          "text": [
            "hello world\n"
          ]
        }
      ]
    },
    {
      "cell_type": "code",
      "source": [
        "a=100 # memory management demonstration\n",
        "print(id(a))\n"
      ],
      "metadata": {
        "id": "LrRscDvVGb6k",
        "outputId": "d534bf61-7dd5-49c6-db88-3478d89516f3",
        "colab": {
          "base_uri": "https://localhost:8080/"
        }
      },
      "execution_count": 2,
      "outputs": [
        {
          "output_type": "stream",
          "name": "stdout",
          "text": [
            "10754024\n"
          ]
        }
      ]
    },
    {
      "cell_type": "code",
      "source": [
        "b=100\n",
        "c=b\n",
        "print(id(b))\n",
        "print(id(c))"
      ],
      "metadata": {
        "id": "ps88xETBGf13",
        "outputId": "33eda2c9-6605-4ca0-8407-d4f7013a546d",
        "colab": {
          "base_uri": "https://localhost:8080/"
        }
      },
      "execution_count": 3,
      "outputs": [
        {
          "output_type": "stream",
          "name": "stdout",
          "text": [
            "10754024\n",
            "10754024\n"
          ]
        }
      ]
    },
    {
      "cell_type": "code",
      "source": [
        "a=10 # variable assignments, Python assigns memory to value and not variables\n",
        "b=20\n",
        "c=30\n",
        "print(a,b,c)"
      ],
      "metadata": {
        "id": "Rrj5Yl8EHDlc",
        "outputId": "b01b8243-1bce-4caf-9a89-e4b051ae7dd1",
        "colab": {
          "base_uri": "https://localhost:8080/"
        }
      },
      "execution_count": 4,
      "outputs": [
        {
          "output_type": "stream",
          "name": "stdout",
          "text": [
            "10 20 30\n"
          ]
        }
      ]
    },
    {
      "cell_type": "code",
      "source": [],
      "metadata": {
        "id": "CXXooWudNMYN"
      },
      "execution_count": null,
      "outputs": []
    },
    {
      "cell_type": "code",
      "source": [
        "a,b,c=10,20,30\n",
        "print(a,b,c)"
      ],
      "metadata": {
        "id": "xtgxtMXYHH89",
        "outputId": "d3bbb8af-9106-461e-93c4-3b57d802fd04",
        "colab": {
          "base_uri": "https://localhost:8080/"
        }
      },
      "execution_count": 5,
      "outputs": [
        {
          "output_type": "stream",
          "name": "stdout",
          "text": [
            "10 20 30\n"
          ]
        }
      ]
    },
    {
      "cell_type": "code",
      "source": [
        "a=b=c=10\n",
        "print(a,b,c)"
      ],
      "metadata": {
        "id": "vtdlpW-_HfKR",
        "outputId": "3379d4ae-0633-4eab-c7f4-7f057322d5f8",
        "colab": {
          "base_uri": "https://localhost:8080/"
        }
      },
      "execution_count": 6,
      "outputs": [
        {
          "output_type": "stream",
          "name": "stdout",
          "text": [
            "10 10 10\n"
          ]
        }
      ]
    },
    {
      "cell_type": "code",
      "source": [
        "# this is multiline comment\n",
        "\"\"\" Shubham Bari\n",
        "NTT DATA\n",
        "Software \"\"\"\n",
        "\n",
        "print(\"Hi\")"
      ],
      "metadata": {
        "id": "_CPH7UklKY5Y",
        "outputId": "921a398f-a873-41b4-f3ed-8492a7011e82",
        "colab": {
          "base_uri": "https://localhost:8080/"
        }
      },
      "execution_count": 8,
      "outputs": [
        {
          "output_type": "stream",
          "name": "stdout",
          "text": [
            "Hi\n"
          ]
        }
      ]
    },
    {
      "cell_type": "code",
      "source": [
        "# Strings in Python\n",
        "a = 'NTT'\n",
        "b = \"DATA\"\n",
        "print(a,b)"
      ],
      "metadata": {
        "id": "OVRPHdGXNN7F",
        "outputId": "91759e0b-550f-4a85-f6e6-2221955e50e5",
        "colab": {
          "base_uri": "https://localhost:8080/"
        }
      },
      "execution_count": 9,
      "outputs": [
        {
          "output_type": "stream",
          "name": "stdout",
          "text": [
            "NTT DATA\n"
          ]
        }
      ]
    },
    {
      "cell_type": "code",
      "source": [
        "#Multi line string in Python\n",
        "a = \"\"\" Shubham bari\n",
        "    NTT DATA\n",
        "    Pune \"\"\"\n",
        "\n",
        "print(a)"
      ],
      "metadata": {
        "id": "zYTzBuSJNeR9",
        "outputId": "4b9db5e5-0432-4131-8eda-6b50df9b267c",
        "colab": {
          "base_uri": "https://localhost:8080/"
        }
      },
      "execution_count": 10,
      "outputs": [
        {
          "output_type": "stream",
          "name": "stdout",
          "text": [
            " Shubham bari\n",
            "    NTT DATA\n",
            "    Pune \n"
          ]
        }
      ]
    }
  ]
}