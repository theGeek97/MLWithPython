{
  "nbformat": 4,
  "nbformat_minor": 0,
  "metadata": {
    "colab": {
      "provenance": []
    },
    "kernelspec": {
      "name": "python3",
      "display_name": "Python 3"
    },
    "language_info": {
      "name": "python"
    }
  },
  "cells": [
    {
      "cell_type": "code",
      "source": [
        "\n",
        "#LIST DAY 6\n",
        "#array is  static datatye and is not same as list\n",
        "#dynamic\n",
        "#no static datatype\n",
        "#mutable\n",
        "#it has negative indexing\n",
        "#supports slicing\n",
        "#ordered collection\n",
        "\n",
        "data = [20,30,3+4j,[1,2,3]]\n",
        "print(data)"
      ],
      "metadata": {
        "id": "-Tx0Khbjtu3I",
        "colab": {
          "base_uri": "https://localhost:8080/"
        },
        "outputId": "703006b3-c93c-4e7c-a70b-4f23e44c54e5"
      },
      "execution_count": 1,
      "outputs": [
        {
          "output_type": "stream",
          "name": "stdout",
          "text": [
            "[20, 30, (3+4j), [1, 2, 3]]\n"
          ]
        }
      ]
    },
    {
      "cell_type": "code",
      "source": [
        "#id tells the starting memory location\n",
        "#concatenation of list\n",
        "l1 = [1,2,9,4]\n",
        "l2 = [5,6,7,8]\n",
        "l3= l1 + l2\n",
        "print(l3)\n",
        "print(l1*2)"
      ],
      "metadata": {
        "colab": {
          "base_uri": "https://localhost:8080/"
        },
        "id": "gBXJuxkY0BPe",
        "outputId": "49deb041-171c-4cbd-934a-8d8fd822fd7d"
      },
      "execution_count": 4,
      "outputs": [
        {
          "output_type": "stream",
          "name": "stdout",
          "text": [
            "[1, 2, 9, 4, 5, 6, 7, 8]\n",
            "[1, 2, 9, 4, 1, 2, 9, 4]\n"
          ]
        }
      ]
    },
    {
      "cell_type": "code",
      "source": [
        "l1=[10,20,10,30,20,45]\n",
        "\n",
        "for i in l1:\n",
        "  if(l1.count(i)==1):\n",
        "    print(i)\n",
        "  else:\n",
        "    print(\"duplicate\")\n",
        "\n"
      ],
      "metadata": {
        "colab": {
          "base_uri": "https://localhost:8080/"
        },
        "id": "8yrrGFDf7m6Y",
        "outputId": "c327ee68-6e2b-401d-bf24-6ddae0486a4b"
      },
      "execution_count": 8,
      "outputs": [
        {
          "output_type": "stream",
          "name": "stdout",
          "text": [
            "duplicate\n",
            "duplicate\n",
            "duplicate\n",
            "30\n",
            "duplicate\n",
            "45\n"
          ]
        }
      ]
    }
  ]
}