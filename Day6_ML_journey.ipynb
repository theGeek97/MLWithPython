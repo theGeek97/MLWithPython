{
  "nbformat": 4,
  "nbformat_minor": 0,
  "metadata": {
    "colab": {
      "provenance": []
    },
    "kernelspec": {
      "name": "python3",
      "display_name": "Python 3"
    },
    "language_info": {
      "name": "python"
    }
  },
  "cells": [
    {
      "cell_type": "code",
      "source": [
        "#LIST DAY 6\n",
        "#dynamic\n",
        "#no static datatype\n",
        "#mutable\n",
        "#it has negative indexing\n",
        "#supports slicing\n",
        "\n"
      ],
      "metadata": {
        "id": "-Tx0Khbjtu3I"
      },
      "execution_count": null,
      "outputs": []
    }
  ]
}