{
  "nbformat": 4,
  "nbformat_minor": 0,
  "metadata": {
    "colab": {
      "provenance": []
    },
    "kernelspec": {
      "name": "python3",
      "display_name": "Python 3"
    },
    "language_info": {
      "name": "python"
    }
  },
  "cells": [
    {
      "cell_type": "code",
      "source": [
        "\n",
        "#LIST DAY 6\n",
        "#array is  static datatye and is not same as list\n",
        "#dynamic\n",
        "#no static datatype\n",
        "#mutable\n",
        "#it has negative indexing\n",
        "#supports slicing\n",
        "#ordered collection\n",
        "\n",
        "data = [20,30,3+4j,[1,2,3]]\n",
        "print(data)"
      ],
      "metadata": {
        "id": "-Tx0Khbjtu3I",
        "colab": {
          "base_uri": "https://localhost:8080/"
        },
        "outputId": "703006b3-c93c-4e7c-a70b-4f23e44c54e5"
      },
      "execution_count": 1,
      "outputs": [
        {
          "output_type": "stream",
          "name": "stdout",
          "text": [
            "[20, 30, (3+4j), [1, 2, 3]]\n"
          ]
        }
      ]
    },
    {
      "cell_type": "code",
      "source": [
        "#id tells the starting memory location\n",
        "#concatenation of list\n",
        "l1 = [1,2,3,4]\n",
        "l2 = [5,6,7,8]\n",
        "l3= l1 + l2\n",
        "print(l3)"
      ],
      "metadata": {
        "id": "gBXJuxkY0BPe",
        "outputId": "f95804f6-8eee-483f-da3f-a65e20c7da20",
        "colab": {
          "base_uri": "https://localhost:8080/"
        }
      },
      "execution_count": 2,
      "outputs": [
        {
          "output_type": "stream",
          "name": "stdout",
          "text": [
            "[1, 2, 3, 4, 5, 6, 7, 8]\n"
          ]
        }
      ]
    }
  ]
}