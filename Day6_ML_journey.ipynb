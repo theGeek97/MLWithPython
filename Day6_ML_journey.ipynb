{
  "nbformat": 4,
  "nbformat_minor": 0,
  "metadata": {
    "colab": {
      "provenance": []
    },
    "kernelspec": {
      "name": "python3",
      "display_name": "Python 3"
    },
    "language_info": {
      "name": "python"
    }
  },
  "cells": [
    {
      "cell_type": "code",
      "source": [
        "\n",
        "#LIST DAY 6\n",
        "#array is  static datatye and is not same as list\n",
        "#dynamic\n",
        "#no static datatype\n",
        "#mutable\n",
        "#it has negative indexing\n",
        "#supports slicing\n",
        "#ordered collection\n",
        "\n",
        "data = [20,30,3+4j,[1,2,3]]\n",
        "print(data)"
      ],
      "metadata": {
        "id": "-Tx0Khbjtu3I",
        "colab": {
          "base_uri": "https://localhost:8080/"
        },
        "outputId": "703006b3-c93c-4e7c-a70b-4f23e44c54e5"
      },
      "execution_count": 1,
      "outputs": [
        {
          "output_type": "stream",
          "name": "stdout",
          "text": [
            "[20, 30, (3+4j), [1, 2, 3]]\n"
          ]
        }
      ]
    }
  ]
}