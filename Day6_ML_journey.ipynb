{
  "nbformat": 4,
  "nbformat_minor": 0,
  "metadata": {
    "colab": {
      "provenance": []
    },
    "kernelspec": {
      "name": "python3",
      "display_name": "Python 3"
    },
    "language_info": {
      "name": "python"
    }
  },
  "cells": [
    {
      "cell_type": "code",
      "source": [
        "#LIST DAY 6"
      ],
      "metadata": {
        "id": "-Tx0Khbjtu3I"
      },
      "execution_count": null,
      "outputs": []
    }
  ]
}