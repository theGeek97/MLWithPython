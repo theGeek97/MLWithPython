{
  "nbformat": 4,
  "nbformat_minor": 0,
  "metadata": {
    "colab": {
      "provenance": []
    },
    "kernelspec": {
      "name": "python3",
      "display_name": "Python 3"
    },
    "language_info": {
      "name": "python"
    }
  },
  "cells": [
    {
      "cell_type": "code",
      "execution_count": null,
      "metadata": {
        "colab": {
          "base_uri": "https://localhost:8080/"
        },
        "id": "LynczderHEfx",
        "outputId": "341612f5-47fa-4176-cb7a-3453d0392be7"
      },
      "outputs": [
        {
          "output_type": "stream",
          "name": "stdout",
          "text": [
            "Hello World\n"
          ]
        }
      ],
      "source": [
        "print(\"Hello World\")"
      ]
    },
    {
      "cell_type": "code",
      "source": [
        "def square(x):\n",
        "  print(x**2)\n",
        "\n",
        "a= int(input(\"emter a no\"))\n",
        "square(a)"
      ],
      "metadata": {
        "id": "q8Sr5cokd8Lf",
        "outputId": "4384cb0b-3ea8-4ace-aafc-5a41c90e0f23",
        "colab": {
          "base_uri": "https://localhost:8080/"
        }
      },
      "execution_count": 1,
      "outputs": [
        {
          "output_type": "stream",
          "name": "stdout",
          "text": [
            "emter a no6\n",
            "36\n"
          ]
        }
      ]
    },
    {
      "cell_type": "code",
      "source": [
        "# without argument and with return value\n",
        "def square():\n",
        "  x= int(input(\"Enter a number: \"))\n",
        "  return x**2\n",
        "\n",
        "print(square())"
      ],
      "metadata": {
        "id": "5KjaoASgenWN",
        "outputId": "28202783-5b78-4601-bc5e-a9fe0af895bb",
        "colab": {
          "base_uri": "https://localhost:8080/"
        }
      },
      "execution_count": 2,
      "outputs": [
        {
          "output_type": "stream",
          "name": "stdout",
          "text": [
            "Enter a number: 3\n",
            "9\n"
          ]
        }
      ]
    }
  ]
}