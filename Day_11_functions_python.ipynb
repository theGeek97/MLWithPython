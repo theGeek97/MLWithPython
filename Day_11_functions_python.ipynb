{
  "nbformat": 4,
  "nbformat_minor": 0,
  "metadata": {
    "colab": {
      "provenance": []
    },
    "kernelspec": {
      "name": "python3",
      "display_name": "Python 3"
    },
    "language_info": {
      "name": "python"
    }
  },
  "cells": [
    {
      "cell_type": "code",
      "execution_count": null,
      "metadata": {
        "colab": {
          "base_uri": "https://localhost:8080/"
        },
        "id": "LynczderHEfx",
        "outputId": "341612f5-47fa-4176-cb7a-3453d0392be7"
      },
      "outputs": [
        {
          "output_type": "stream",
          "name": "stdout",
          "text": [
            "Hello World\n"
          ]
        }
      ],
      "source": [
        "print(\"Hello World\")"
      ]
    },
    {
      "cell_type": "code",
      "source": [
        "def square(x):\n",
        "  print(x**2)\n",
        "\n",
        "a= int(input(\"emter a no\"))\n",
        "square(a)"
      ],
      "metadata": {
        "id": "q8Sr5cokd8Lf",
        "outputId": "4384cb0b-3ea8-4ace-aafc-5a41c90e0f23",
        "colab": {
          "base_uri": "https://localhost:8080/"
        }
      },
      "execution_count": null,
      "outputs": [
        {
          "output_type": "stream",
          "name": "stdout",
          "text": [
            "emter a no6\n",
            "36\n"
          ]
        }
      ]
    },
    {
      "cell_type": "code",
      "source": [
        "# without argument and with return value\n",
        "def square():\n",
        "  x= int(input(\"Enter a number: \"))\n",
        "  return x**2\n",
        "\n",
        "print(square())"
      ],
      "metadata": {
        "id": "5KjaoASgenWN",
        "outputId": "28202783-5b78-4601-bc5e-a9fe0af895bb",
        "colab": {
          "base_uri": "https://localhost:8080/"
        }
      },
      "execution_count": null,
      "outputs": [
        {
          "output_type": "stream",
          "name": "stdout",
          "text": [
            "Enter a number: 3\n",
            "9\n"
          ]
        }
      ]
    },
    {
      "cell_type": "code",
      "source": [
        "# postional -> variable positional ->keyword -> default-> variable keyword\n",
        "\n",
        "def varFun(name,age,deptid,*hours,deptname=\"HR\",**vacations):\n",
        "  print(\"no of hours\",sum(hours))\n",
        "  print(\"no of vacations\", sum(vacations.values()))\n",
        "  print(\"Name:\",name,\"Age:\", age,\"dept:\", deptid,\"deptname\",deptname)\n",
        "\n",
        "varFun(\"shubham\",28,101,9,8,may=2,june=3,july=4)\n",
        "\n"
      ],
      "metadata": {
        "colab": {
          "base_uri": "https://localhost:8080/"
        },
        "id": "grOIzD_tX1kY",
        "outputId": "19e8e7ba-3143-403c-9cc6-ddbfdbb89075"
      },
      "execution_count": null,
      "outputs": [
        {
          "output_type": "stream",
          "name": "stdout",
          "text": [
            "no of hours 17\n",
            "no of vacations 9\n",
            "Name: shubham Age: 28 dept: 101 deptname HR\n"
          ]
        }
      ]
    },
    {
      "cell_type": "code",
      "source": [
        "# Class definition- class Class_name:\n",
        "class Calculator:\n",
        "\n",
        "  # methods/behaviour\n",
        "\n",
        "  def __init__(self,n1,n2):\n",
        "    self.n1=n1\n",
        "    self.n2=n2\n",
        "    self.res=0\n",
        "\n",
        "  def add(self):\n",
        "    self.res = self.n1+self.n2\n",
        "    print(self.res)\n",
        "\n",
        "  def sub(self):\n",
        "    self.res = self.n1 - self.n2\n",
        "    print(self.res)\n",
        "\n",
        "  def mul(self):\n",
        "    self.res = self.n1 * self.n2\n",
        "    print(self.res)\n",
        "\n",
        "  def div(self):\n",
        "    self.res = self.n1 / self.n2\n",
        "    print(self.res)\n",
        "\n",
        "obj1 = Calculator(20,10)  # object creation\n",
        "obj2 = Calculator(3.0,1.5)  # object creation\n",
        "\n",
        "obj1.add()\n",
        "obj2.mul()"
      ],
      "metadata": {
        "id": "xSNeb2Jyq2zZ",
        "outputId": "1aa2844e-219b-4708-9a65-bc50029c2786",
        "colab": {
          "base_uri": "https://localhost:8080/"
        }
      },
      "execution_count": 1,
      "outputs": [
        {
          "output_type": "stream",
          "name": "stdout",
          "text": [
            "30\n",
            "4.5\n"
          ]
        }
      ]
    },
    {
      "cell_type": "code",
      "source": [
        "#without param construct\n",
        "class Calculator:\n",
        "    def __init__(self) :\n",
        "      self.n1=0\n",
        "      self.n2=0\n",
        "      self.res=0\n",
        "\n",
        "    def inputData(self):\n",
        "      self.n1= int(input(\"enter vaue\"))\n",
        "      self.n2= int(input(\"enter vaue\"))\n",
        "\n",
        "    def add(self):\n",
        "      self.res=self.n1 + self.n2\n",
        "      print(self.res)\n",
        "\n",
        "c1= Calculator()\n",
        "c1.inputData()\n",
        "c1.add()\n",
        "\n"
      ],
      "metadata": {
        "id": "IdiN_U3is6GD",
        "outputId": "065a851b-256b-4318-d2bf-52eb931aa529",
        "colab": {
          "base_uri": "https://localhost:8080/"
        }
      },
      "execution_count": 3,
      "outputs": [
        {
          "output_type": "stream",
          "name": "stdout",
          "text": [
            "enter vaue12\n",
            "enter vaue23\n",
            "35\n"
          ]
        }
      ]
    },
    {
      "cell_type": "code",
      "source": [
        "class Student:\n",
        "  def __init__(self):\n",
        "    self.name= \"\"\n",
        "    self.age = 0\n",
        "    self.m1 = 0\n",
        "    self.m2 = 0\n",
        "    self.m3 = 0\n",
        "    self.avg = 0\n",
        "\n",
        "  def getData(self):\n",
        "    self.name= input(\"Name of Student : \")\n",
        "    self.age = int(input(\"Age of student: \"))\n",
        "    self.m1 = int(input(\"M1 : \"))\n",
        "    self.m2 = int(input(\"M2: \"))\n",
        "    self.m3 = int(input(\"M3: \"))\n",
        "\n",
        "  def calculateAvg(self):\n",
        "    self.avg = (self.m1 + self.m2 + self.m3) /3\n",
        "\n",
        "\n",
        "  def printStudent(self):\n",
        "    print(\"Name :\",self.name,\"Age :\", self.age, \"Average\", self.avg)\n",
        "\n",
        "s1= Student()\n",
        "s1.getData()\n",
        "s1.calculateAvg()\n",
        "s1.printStudent()\n",
        "\n"
      ],
      "metadata": {
        "id": "p3ErrjqTxR3o"
      },
      "execution_count": null,
      "outputs": []
    }
  ]
}