{
  "nbformat": 4,
  "nbformat_minor": 0,
  "metadata": {
    "colab": {
      "provenance": []
    },
    "kernelspec": {
      "name": "python3",
      "display_name": "Python 3"
    },
    "language_info": {
      "name": "python"
    }
  },
  "cells": [
    {
      "cell_type": "code",
      "execution_count": null,
      "metadata": {
        "colab": {
          "base_uri": "https://localhost:8080/"
        },
        "id": "LynczderHEfx",
        "outputId": "341612f5-47fa-4176-cb7a-3453d0392be7"
      },
      "outputs": [
        {
          "output_type": "stream",
          "name": "stdout",
          "text": [
            "Hello World\n"
          ]
        }
      ],
      "source": [
        "print(\"Hello World\")"
      ]
    },
    {
      "cell_type": "code",
      "source": [
        "def square(x):\n",
        "  print(x**2)\n",
        "\n",
        "a= int(input(\"emter a no\"))\n",
        "square(a)"
      ],
      "metadata": {
        "id": "q8Sr5cokd8Lf",
        "outputId": "4384cb0b-3ea8-4ace-aafc-5a41c90e0f23",
        "colab": {
          "base_uri": "https://localhost:8080/"
        }
      },
      "execution_count": null,
      "outputs": [
        {
          "output_type": "stream",
          "name": "stdout",
          "text": [
            "emter a no6\n",
            "36\n"
          ]
        }
      ]
    },
    {
      "cell_type": "code",
      "source": [
        "# without argument and with return value\n",
        "def square():\n",
        "  x= int(input(\"Enter a number: \"))\n",
        "  return x**2\n",
        "\n",
        "print(square())"
      ],
      "metadata": {
        "id": "5KjaoASgenWN",
        "outputId": "28202783-5b78-4601-bc5e-a9fe0af895bb",
        "colab": {
          "base_uri": "https://localhost:8080/"
        }
      },
      "execution_count": null,
      "outputs": [
        {
          "output_type": "stream",
          "name": "stdout",
          "text": [
            "Enter a number: 3\n",
            "9\n"
          ]
        }
      ]
    },
    {
      "cell_type": "code",
      "source": [
        "# postional -> variable positional ->keyword -> default-> variable keyword\n",
        "\n",
        "def varFun(name,age,deptid,*hours,deptname=\"HR\",**vacations):\n",
        "  print(\"no of hours\",sum(hours))\n",
        "  print(\"no of vacations\", sum(vacations.values()))\n",
        "  print(\"Name:\",name,\"Age:\", age,\"dept:\", deptid,\"deptname\",deptname)\n",
        "\n",
        "varFun(\"shubham\",28,101,9,8,may=2,june=3,july=4)\n",
        "\n"
      ],
      "metadata": {
        "colab": {
          "base_uri": "https://localhost:8080/"
        },
        "id": "grOIzD_tX1kY",
        "outputId": "19e8e7ba-3143-403c-9cc6-ddbfdbb89075"
      },
      "execution_count": 6,
      "outputs": [
        {
          "output_type": "stream",
          "name": "stdout",
          "text": [
            "no of hours 17\n",
            "no of vacations 9\n",
            "Name: shubham Age: 28 dept: 101 deptname HR\n"
          ]
        }
      ]
    }
  ]
}