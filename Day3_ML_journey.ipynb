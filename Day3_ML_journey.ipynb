{
  "nbformat": 4,
  "nbformat_minor": 0,
  "metadata": {
    "colab": {
      "provenance": [],
      "authorship_tag": "ABX9TyPyKtuq2Cll6JMv9KPQZSAy",
      "include_colab_link": true
    },
    "kernelspec": {
      "name": "python3",
      "display_name": "Python 3"
    },
    "language_info": {
      "name": "python"
    }
  },
  "cells": [
    {
      "cell_type": "markdown",
      "metadata": {
        "id": "view-in-github",
        "colab_type": "text"
      },
      "source": [
        "<a href=\"https://colab.research.google.com/github/theGeek97/MLWithPython/blob/main/Day3_ML_journey.ipynb\" target=\"_parent\"><img src=\"https://colab.research.google.com/assets/colab-badge.svg\" alt=\"Open In Colab\"/></a>"
      ]
    },
    {
      "cell_type": "code",
      "execution_count": 1,
      "metadata": {
        "colab": {
          "base_uri": "https://localhost:8080/"
        },
        "id": "NfKmIQ4lRq3j",
        "outputId": "81acb68a-6e0e-4348-d84b-f16b53c0ade8"
      },
      "outputs": [
        {
          "output_type": "stream",
          "name": "stdout",
          "text": [
            "['facebook', 12.4, 300, [1, 2, 3]]\n"
          ]
        }
      ],
      "source": [
        "#list - sequence of elements of different types having positive and negative indexing\n",
        "\n",
        "my_list = ['facebook', 12.4,300,[1,2,3]]\n",
        "print(my_list)\n"
      ]
    }
  ]
}